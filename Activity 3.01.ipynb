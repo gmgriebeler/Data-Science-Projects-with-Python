{
 "cells": [
  {
   "cell_type": "code",
   "execution_count": 23,
   "id": "c88f1217-ba11-41fb-b849-16a98d9a2cbb",
   "metadata": {},
   "outputs": [],
   "source": [
    "import numpy as np\n",
    "import pandas as pd\n",
    "import matplotlib as mpl\n",
    "import matplotlib.pyplot as plt\n",
    "%matplotlib inline\n",
    "import seaborn as sns\n",
    "mpl.rcParams['figure.dpi'] = 400\n",
    "df = pd.read_csv(r'C:\\Users\\gabri\\OneDrive\\Documentos\\Data Science Projects with Python\\Chapter_1_cleaned_data.csv')"
   ]
  },
  {
   "cell_type": "code",
   "execution_count": 24,
   "id": "541f37b6-e5a7-4860-9add-9bbf07910fdd",
   "metadata": {},
   "outputs": [],
   "source": [
    "from sklearn.model_selection import train_test_split\n",
    "X_train, X_test, y_train, y_test = train_test_split(df['PAY_1'].values.reshape(-1,1), df['LIMIT_BAL'].values, test_size=0.2)"
   ]
  },
  {
   "cell_type": "code",
   "execution_count": 25,
   "id": "07b7c276-dada-4d01-b072-518cefb2a2f6",
   "metadata": {},
   "outputs": [
    {
     "data": {
      "text/plain": [
       "LogisticRegression(solver='liblinear')"
      ]
     },
     "execution_count": 25,
     "metadata": {},
     "output_type": "execute_result"
    }
   ],
   "source": [
    "from sklearn.linear_model import LogisticRegression\n",
    "example_lr = LogisticRegression(solver='liblinear')\n",
    "example_lr"
   ]
  },
  {
   "cell_type": "code",
   "execution_count": 26,
   "id": "b35b1aa6-b9f0-4184-a28c-82f604994c4a",
   "metadata": {},
   "outputs": [],
   "source": [
    "# print(np.mean(y_train))\n",
    "# print(np.mean(y_test))"
   ]
  },
  {
   "cell_type": "code",
   "execution_count": 27,
   "id": "8979a737-8072-466c-9734-ffd5646b237f",
   "metadata": {},
   "outputs": [
    {
     "data": {
      "text/plain": [
       "LogisticRegression(solver='liblinear')"
      ]
     },
     "execution_count": 27,
     "metadata": {},
     "output_type": "execute_result"
    }
   ],
   "source": [
    "example_lr.fit(X_train, y_train)"
   ]
  },
  {
   "cell_type": "code",
   "execution_count": 28,
   "id": "8afb001e-8a2e-42a2-89dc-a806008ba6f9",
   "metadata": {},
   "outputs": [],
   "source": [
    "y_pred = example_lr.predict(X_test)"
   ]
  },
  {
   "cell_type": "code",
   "execution_count": 29,
   "id": "fbc669b2-a264-4136-961c-d6dbccaf4217",
   "metadata": {},
   "outputs": [
    {
     "data": {
      "text/plain": [
       "0.1147571723232702"
      ]
     },
     "execution_count": 29,
     "metadata": {},
     "output_type": "execute_result"
    }
   ],
   "source": [
    "example_lr.score(X_test, y_test)"
   ]
  },
  {
   "cell_type": "code",
   "execution_count": 30,
   "id": "ecc5ab5c-0f42-42f0-977f-6728670115a7",
   "metadata": {},
   "outputs": [
    {
     "data": {
      "text/plain": [
       "array([[0.02712839, 0.00039851, 0.10856253, ..., 0.00039851, 0.00031649,\n",
       "        0.00026312],\n",
       "       [0.01588696, 0.00042279, 0.06373958, ..., 0.00042279, 0.0004597 ,\n",
       "        0.00045149],\n",
       "       [0.01588696, 0.00042279, 0.06373958, ..., 0.00042279, 0.0004597 ,\n",
       "        0.00045149],\n",
       "       ...,\n",
       "       [0.01588696, 0.00042279, 0.06373958, ..., 0.00042279, 0.0004597 ,\n",
       "        0.00045149],\n",
       "       [0.02712839, 0.00039851, 0.10856253, ..., 0.00039851, 0.00031649,\n",
       "        0.00026312],\n",
       "       [0.02145006, 0.00042366, 0.0862495 , ..., 0.00042366, 0.00039369,\n",
       "        0.00035574]])"
      ]
     },
     "execution_count": 30,
     "metadata": {},
     "output_type": "execute_result"
    }
   ],
   "source": [
    "y_pred_proba = example_lr.predict_proba(X_test)\n",
    "y_pred_proba"
   ]
  },
  {
   "cell_type": "code",
   "execution_count": 42,
   "id": "ac5c0d00-8e05-425d-b2f5-04963629db07",
   "metadata": {},
   "outputs": [],
   "source": [
    "ones_and_features = np.hstack([np.ones((X_test.shape[0],1)), X_test])"
   ]
  },
  {
   "cell_type": "code",
   "execution_count": 32,
   "id": "75004460-6459-4c4b-ab6a-c480e4510840",
   "metadata": {},
   "outputs": [
    {
     "ename": "SyntaxError",
     "evalue": "unexpected EOF while parsing (2671970389.py, line 1)",
     "output_type": "error",
     "traceback": [
      "\u001b[1;36m  Cell \u001b[1;32mIn[32], line 1\u001b[1;36m\u001b[0m\n\u001b[1;33m    intercept_and_coefs = np.concatenate([example_lr.intercept_.reshape(1,1), example_lr\u001b[0m\n\u001b[1;37m                                                                                        ^\u001b[0m\n\u001b[1;31mSyntaxError\u001b[0m\u001b[1;31m:\u001b[0m unexpected EOF while parsing\n"
     ]
    }
   ],
   "source": [
    "intercept_and_coefs = np.concatenate([example_lr.intercept_.reshape(1,1), example_lr.coef_], axis=1)"
   ]
  }
 ],
 "metadata": {
  "kernelspec": {
   "display_name": "Python 3 (ipykernel)",
   "language": "python",
   "name": "python3"
  },
  "language_info": {
   "codemirror_mode": {
    "name": "ipython",
    "version": 3
   },
   "file_extension": ".py",
   "mimetype": "text/x-python",
   "name": "python",
   "nbconvert_exporter": "python",
   "pygments_lexer": "ipython3",
   "version": "3.8.2"
  }
 },
 "nbformat": 4,
 "nbformat_minor": 5
}
